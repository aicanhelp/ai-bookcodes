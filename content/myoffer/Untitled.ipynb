{
 "cells": [
  {
   "cell_type": "code",
   "execution_count": null,
   "metadata": {},
   "outputs": [],
   "source": [
    "\n",
    "import java.util.concurrent.ConcurrentLinkedQueue;\n",
    "\n",
    "public class MessageBox{\n",
    "    public MessageBox(){\n",
    "        ConcurrentLinkedQueue messageQueue=new ConcurrentLinkedQueue();\n",
    "    }\n",
    "    \n",
    "    public void put(Object msg){\n",
    "        this.messageQueue.put(msg);\n",
    "        this.messageQueue\n",
    "    }\n",
    "    \n",
    "    \n",
    "}"
   ]
  }
 ],
 "metadata": {
  "kernelspec": {
   "display_name": "Java",
   "language": "java",
   "name": "java"
  },
  "language_info": {
   "codemirror_mode": "java",
   "file_extension": ".jshell",
   "mimetype": "text/x-java-source",
   "name": "Java",
   "pygments_lexer": "java",
   "version": "11.0.9+11"
  }
 },
 "nbformat": 4,
 "nbformat_minor": 4
}
