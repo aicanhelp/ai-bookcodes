{
 "cells": [
  {
   "cell_type": "code",
   "execution_count": 2,
   "metadata": {},
   "outputs": [],
   "source": [
    "a=[1,2,3]"
   ]
  },
  {
   "cell_type": "code",
   "execution_count": 7,
   "metadata": {},
   "outputs": [],
   "source": [
    "from queue import Queue"
   ]
  },
  {
   "cell_type": "code",
   "execution_count": 8,
   "metadata": {},
   "outputs": [],
   "source": [
    "a=Queue()"
   ]
  },
  {
   "cell_type": "code",
   "execution_count": 9,
   "metadata": {},
   "outputs": [],
   "source": [
    "a.put(1)"
   ]
  },
  {
   "cell_type": "code",
   "execution_count": 10,
   "metadata": {},
   "outputs": [],
   "source": [
    "a.put(2)"
   ]
  },
  {
   "cell_type": "code",
   "execution_count": 11,
   "metadata": {},
   "outputs": [
    {
     "data": {
      "text/plain": [
       "1"
      ]
     },
     "execution_count": 11,
     "metadata": {},
     "output_type": "execute_result"
    }
   ],
   "source": [
    "a.get()"
   ]
  },
  {
   "cell_type": "code",
   "execution_count": 13,
   "metadata": {},
   "outputs": [
    {
     "data": {
      "text/plain": [
       "1"
      ]
     },
     "execution_count": 13,
     "metadata": {},
     "output_type": "execute_result"
    }
   ],
   "source": [
    "a.qsize()"
   ]
  },
  {
   "cell_type": "code",
   "execution_count": 16,
   "metadata": {},
   "outputs": [],
   "source": [
    "class IpAddessMaker:\n",
    "    \n",
    "    \n",
    "    def make_parts(self,k,s):\n",
    "        if not s: return []\n",
    "        if k==3:\n",
    "            if int(s)>255: \n",
    "                return []\n",
    "            else:\n",
    "                return [s]\n",
    "\n",
    "        l=len(s)\n",
    "        if (4-k)>l: return []\n",
    "            \n",
    "        addresses=[]\n",
    "        \n",
    "        for i in range(1,4):\n",
    "            part1=s[:i]\n",
    "            if int(part1)>255:\n",
    "                continue\n",
    "            remainings=self.make_parts(k+1, s[i:])\n",
    "            if not remainings:\n",
    "                continue\n",
    "            for a in remainings:\n",
    "                addresses.append(part1+'.'+a)\n",
    "        return addresses\n",
    "    \n",
    "    def make(self,s):\n",
    "        return self.make_parts(0,s)\n",
    "        "
   ]
  },
  {
   "cell_type": "code",
   "execution_count": 17,
   "metadata": {},
   "outputs": [
    {
     "data": {
      "text/plain": [
       "['255.255.11.135', '255.255.111.35']"
      ]
     },
     "execution_count": 17,
     "metadata": {},
     "output_type": "execute_result"
    }
   ],
   "source": [
    "IpAddessMaker().make('25525511135')"
   ]
  },
  {
   "cell_type": "code",
   "execution_count": 84,
   "metadata": {},
   "outputs": [],
   "source": [
    "def permutations(nums):\n",
    "    visited=[False for _ in range(len(nums))]\n",
    "    result=[]\n",
    "    pList=[]\n",
    "    sub_permutations(nums,visited,result,pList)\n",
    "    return result\n",
    "        \n",
    "def sub_permutations1(nums,visited,result,pList):\n",
    "    if len(pList)==len(nums):\n",
    "        result.append([a for a in pList])\n",
    "        return\n",
    "    \n",
    "    for i in range(len(nums)):\n",
    "        if visited[i]:\n",
    "            continue\n",
    "        \n",
    "        visited[i]=True\n",
    "        pList.append(nums[i])\n",
    "        sub_permutations(nums,visited,result,pList)\n",
    "        visited[i]=False\n",
    "        pList.pop()\n",
    "    "
   ]
  },
  {
   "cell_type": "code",
   "execution_count": 85,
   "metadata": {},
   "outputs": [
    {
     "data": {
      "text/plain": [
       "[[3, 2, 1], [3, 1, 2], [2, 3, 1], [2, 1, 3], [1, 3, 2], [1, 2, 3]]"
      ]
     },
     "execution_count": 85,
     "metadata": {},
     "output_type": "execute_result"
    }
   ],
   "source": [
    "permutations([3,2,1])"
   ]
  },
  {
   "cell_type": "code",
   "execution_count": 87,
   "metadata": {},
   "outputs": [
    {
     "data": {
      "text/plain": [
       "[[3, 2, 1]]"
      ]
     },
     "execution_count": 87,
     "metadata": {},
     "output_type": "execute_result"
    }
   ],
   "source": [
    "permutations2([3,2,1])"
   ]
  },
  {
   "cell_type": "code",
   "execution_count": 64,
   "metadata": {},
   "outputs": [],
   "source": [
    "def SortedPermutations(nums):\n",
    "    sorted(nums)\n",
    "    visited=[False for _ in range(len(nums))]\n",
    "    result=[]\n",
    "    pList=[]\n",
    "    sub_permutations2(nums,visited,result,pList)\n",
    "    return result\n",
    "\n",
    "def sub_permutations2(nums,visited,result,pList):\n",
    "    if len(pList)==len(nums):\n",
    "        result.append([a for a in pList])\n",
    "        return\n",
    "    \n",
    "    for i in range(len(nums)):\n",
    "        if visited[i]:\n",
    "            continue\n",
    "        \n",
    "        if i>0 and nums[i]==nums[i-1] and not visited[i-1]:\n",
    "            continue\n",
    "        \n",
    "        visited[i]=True\n",
    "        pList.append(nums[i])\n",
    "        \n",
    "        sub_permutations2(nums,visited,result,pList)\n",
    "        visited[i]=False\n",
    "        pList.pop()"
   ]
  },
  {
   "cell_type": "code",
   "execution_count": null,
   "metadata": {},
   "outputs": [],
   "source": []
  },
  {
   "cell_type": "code",
   "execution_count": 66,
   "metadata": {},
   "outputs": [
    {
     "data": {
      "text/plain": [
       "[[1, 1, 1, 2], [1, 1, 2, 1], [1, 2, 1, 1], [2, 1, 1, 1]]"
      ]
     },
     "execution_count": 66,
     "metadata": {},
     "output_type": "execute_result"
    }
   ],
   "source": [
    "SortedPermutations([1,1,1,2])"
   ]
  },
  {
   "cell_type": "code",
   "execution_count": 50,
   "metadata": {},
   "outputs": [
    {
     "data": {
      "text/plain": [
       "[1, 1, 2]"
      ]
     },
     "execution_count": 50,
     "metadata": {},
     "output_type": "execute_result"
    }
   ],
   "source": [
    "sorted([1,2,1])"
   ]
  },
  {
   "cell_type": "code",
   "execution_count": 69,
   "metadata": {},
   "outputs": [],
   "source": [
    "def combination(n,k):\n",
    "    result=[]\n",
    "    sub=[]\n",
    "    sub_combination(n+1,1,k,result,sub)\n",
    "    return result\n",
    "\n",
    "def sub_combination(n,i,k,result,sub):\n",
    "    if k==0:\n",
    "        result.append([i for i in sub])\n",
    "        return\n",
    "        \n",
    "    for v in range(i,n):\n",
    "        sub.append(v)\n",
    "        sub_combination(n,v+1,k-1,result,sub)\n",
    "        sub.pop()"
   ]
  },
  {
   "cell_type": "code",
   "execution_count": 73,
   "metadata": {},
   "outputs": [
    {
     "data": {
      "text/plain": [
       "[[1, 2], [1, 3], [1, 4], [2, 3], [2, 4], [3, 4]]"
      ]
     },
     "execution_count": 73,
     "metadata": {},
     "output_type": "execute_result"
    }
   ],
   "source": [
    "combination(4,2)"
   ]
  },
  {
   "cell_type": "code",
   "execution_count": 80,
   "metadata": {},
   "outputs": [],
   "source": [
    "def combination_sum(nums,target):\n",
    "    result=[]\n",
    "    sub=[]\n",
    "    sub_combination_sum(nums,0,target,result,sub)\n",
    "    return result\n",
    "    \n",
    "def sub_combination_sum(nums,start,target,result,sub):\n",
    "    if target==0:\n",
    "        result.append([i for i in sub])\n",
    "        return\n",
    "    \n",
    "    for i in range(start,len(nums)):\n",
    "        v=nums[i]\n",
    "        if v>target:\n",
    "            continue\n",
    "        sub.append(v)\n",
    "        sub_combination_sum(nums,i, target-v,result,sub)\n",
    "        sub.pop()\n",
    "        "
   ]
  },
  {
   "cell_type": "code",
   "execution_count": 81,
   "metadata": {},
   "outputs": [
    {
     "data": {
      "text/plain": [
       "[[7], [2, 2, 3]]"
      ]
     },
     "execution_count": 81,
     "metadata": {},
     "output_type": "execute_result"
    }
   ],
   "source": [
    "combination_sum([7,2,6,3],7)"
   ]
  },
  {
   "cell_type": "code",
   "execution_count": 93,
   "metadata": {},
   "outputs": [],
   "source": [
    "def sum1(n):\n",
    "    n_3=int(n/3)+1\n",
    "    n_5=int(n/5)+1\n",
    "    result=0\n",
    "    \n",
    "    for i in range(1,n_3):\n",
    "        result=result+i*3\n",
    "        \n",
    "    for i in range(1,n_5):\n",
    "        result=result+i*5\n",
    "        \n",
    "    return result"
   ]
  },
  {
   "cell_type": "code",
   "execution_count": null,
   "metadata": {},
   "outputs": [],
   "source": [
    "def combination_sum2(nums,target):\n",
    "    result=[]\n",
    "    sub=[]\n",
    "    visited=[False for _ in range(len(nums))]\n",
    "    sub_combination_sum2(nums,visited,target,result,sub)\n",
    "    return result\n",
    "    \n",
    "def sub_combination_sum2(nums,visited,target,result,sub):\n",
    "    if target==0:\n",
    "        result.append([i for i in sub])\n",
    "        return\n",
    "    \n",
    "    for i in range(start,len(nums)):\n",
    "        v=nums[i]\n",
    "        if v>target:\n",
    "            continue\n",
    "        sub.append(v)\n",
    "        sub_combination_sum2(nums,i, target-v,result,sub)\n",
    "        sub.pop()\n",
    "        "
   ]
  },
  {
   "cell_type": "code",
   "execution_count": 96,
   "metadata": {},
   "outputs": [
    {
     "data": {
      "text/plain": [
       "33"
      ]
     },
     "execution_count": 96,
     "metadata": {},
     "output_type": "execute_result"
    }
   ],
   "source": [
    "sum()"
   ]
  },
  {
   "cell_type": "code",
   "execution_count": 108,
   "metadata": {},
   "outputs": [],
   "source": [
    "def sum1(n):\n",
    "    n_3=int(n/3)+1\n",
    "    n_5=int(n/5)+1\n",
    "    result=0\n",
    "    \n",
    "    for i in range(1,n_3):\n",
    "        result=result+i*3\n",
    "        \n",
    "    for i in range(1,n_5):\n",
    "        if i%3==0:\n",
    "            continue\n",
    "            \n",
    "        result=result+i*5\n",
    "        \n",
    "    return result\n",
    "\n",
    "def sum2(n):\n",
    "    n_3=3\n",
    "    n_5=5\n",
    "    result_3=0\n",
    "    result_5=0\n",
    "    while n_3<=n or n_5<=n:\n",
    "        if n_3<=n:\n",
    "            result_3=result_3+n_3\n",
    "            n_3=n_3+3\n",
    "        if n_5<=n:\n",
    "            result_5=result_5+n_5\n",
    "            n_5=n_5+5\n",
    "            \n",
    "    return result_3+result_5"
   ]
  },
  {
   "cell_type": "code",
   "execution_count": 109,
   "metadata": {},
   "outputs": [
    {
     "data": {
      "text/plain": [
       "60"
      ]
     },
     "execution_count": 109,
     "metadata": {},
     "output_type": "execute_result"
    }
   ],
   "source": [
    "sum1(15)"
   ]
  },
  {
   "cell_type": "code",
   "execution_count": 131,
   "metadata": {},
   "outputs": [],
   "source": [
    "def max_sum2(nums):\n",
    "    paths=[]\n",
    "    \n",
    "    sub_max_sum2(nums,0,0,0,paths)\n",
    "    max_v=0\n",
    "   \n",
    "    for v in paths:\n",
    "        max_v=max(max_v,v)\n",
    "        \n",
    "    return max_v\n",
    "    \n",
    "def sub_max_sum2(nums,r,c,cur_sum,paths):\n",
    "    if r==len(nums) or c==len(nums[0]):\n",
    "        paths.append(cur_sum)\n",
    "        return\n",
    "    \n",
    "    cur_sum=cur_sum+nums[r][c]\n",
    "    sub_max_sum2(nums,r+1,c,cur_sum,paths)\n",
    "    sub_max_sum2(nums,r+1,c+1,cur_sum,paths)"
   ]
  },
  {
   "cell_type": "code",
   "execution_count": 132,
   "metadata": {},
   "outputs": [
    {
     "data": {
      "text/plain": [
       "2"
      ]
     },
     "execution_count": 132,
     "metadata": {},
     "output_type": "execute_result"
    }
   ],
   "source": [
    "max_sum2([[1],[1,2]])"
   ]
  },
  {
   "cell_type": "code",
   "execution_count": null,
   "metadata": {},
   "outputs": [],
   "source": []
  }
 ],
 "metadata": {
  "kernelspec": {
   "display_name": "Python 3",
   "language": "python",
   "name": "python3"
  },
  "language_info": {
   "codemirror_mode": {
    "name": "ipython",
    "version": 3
   },
   "file_extension": ".py",
   "mimetype": "text/x-python",
   "name": "python",
   "nbconvert_exporter": "python",
   "pygments_lexer": "ipython3",
   "version": "3.6.9"
  }
 },
 "nbformat": 4,
 "nbformat_minor": 4
}
