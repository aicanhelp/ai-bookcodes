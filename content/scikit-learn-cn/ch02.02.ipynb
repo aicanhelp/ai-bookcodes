{
 "cells": [
  {
   "cell_type": "code",
   "execution_count": 3,
   "metadata": {},
   "outputs": [
    {
     "data": {
      "text/plain": [
       "array([0. , 0.2, 0.4, 0.6, 0.8, 1. , 1.2, 1.4, 1.6, 1.8, 2. ])"
      ]
     },
     "execution_count": 3,
     "metadata": {},
     "output_type": "execute_result"
    }
   ],
   "source": [
    "%matplotlib inline\n",
    "import matplotlib.pyplot as plt\n",
    "import numpy as np\n",
    "\n",
    "\n",
    "np.linspace(0,2,11)"
   ]
  },
  {
   "cell_type": "code",
   "execution_count": 2,
   "metadata": {},
   "outputs": [
    {
     "data": {
      "text/plain": [
       "array([[1., 1., 1.],\n",
       "       [1., 1., 1.],\n",
       "       [1., 1., 1.]])"
      ]
     },
     "execution_count": 2,
     "metadata": {},
     "output_type": "execute_result"
    }
   ],
   "source": [
    "np.ones((3,3))"
   ]
  },
  {
   "cell_type": "code",
   "execution_count": 4,
   "metadata": {},
   "outputs": [
    {
     "data": {
      "text/plain": [
       "array([[0., 0., 0., 0., 0., 0.],\n",
       "       [0., 0., 0., 0., 0., 0.],\n",
       "       [0., 0., 0., 0., 0., 0.]])"
      ]
     },
     "execution_count": 4,
     "metadata": {},
     "output_type": "execute_result"
    }
   ],
   "source": [
    "np.zeros((3,6))"
   ]
  },
  {
   "cell_type": "code",
   "execution_count": 5,
   "metadata": {},
   "outputs": [
    {
     "data": {
      "text/plain": [
       "array([[1., 0., 0., 0.],\n",
       "       [0., 1., 0., 0.],\n",
       "       [0., 0., 1., 0.],\n",
       "       [0., 0., 0., 1.]])"
      ]
     },
     "execution_count": 5,
     "metadata": {},
     "output_type": "execute_result"
    }
   ],
   "source": [
    "np.eye(4)"
   ]
  },
  {
   "cell_type": "code",
   "execution_count": 10,
   "metadata": {},
   "outputs": [
    {
     "data": {
      "text/plain": [
       "array([[ 0.65493834, -1.63727428,  0.72168633, -1.02408294,  0.61296602,\n",
       "        -0.21637233],\n",
       "       [ 0.63461312, -0.65050159,  0.68843476, -0.62762058, -1.22604682,\n",
       "         0.0324575 ],\n",
       "       [ 2.0724757 ,  0.79332931,  1.95661072, -0.01008663, -0.08322042,\n",
       "        -0.57272679],\n",
       "       [ 0.76462477,  0.69571526,  0.36754479,  0.95101324, -0.72761701,\n",
       "         0.60870415]])"
      ]
     },
     "execution_count": 10,
     "metadata": {},
     "output_type": "execute_result"
    }
   ],
   "source": [
    "np.random.randn(4,6)"
   ]
  },
  {
   "cell_type": "code",
   "execution_count": 15,
   "metadata": {},
   "outputs": [
    {
     "data": {
      "text/plain": [
       "array([0, 1, 2, 3, 4, 5, 6, 7, 8, 9])"
      ]
     },
     "execution_count": 15,
     "metadata": {},
     "output_type": "execute_result"
    }
   ],
   "source": [
    "np.arange(10)"
   ]
  },
  {
   "cell_type": "code",
   "execution_count": 16,
   "metadata": {},
   "outputs": [
    {
     "data": {
      "text/plain": [
       "array([4, 4, 0, 1, 3, 4, 7, 6, 5, 6, 5, 1, 1, 1, 3, 1, 8, 4])"
      ]
     },
     "execution_count": 16,
     "metadata": {},
     "output_type": "execute_result"
    }
   ],
   "source": [
    "np.random.randint(0,10,18)"
   ]
  },
  {
   "cell_type": "code",
   "execution_count": 17,
   "metadata": {},
   "outputs": [
    {
     "data": {
      "text/plain": [
       "\u001b[0;31mDocstring:\u001b[0m\n",
       "randint(low, high=None, size=None, dtype='l')\n",
       "\n",
       "Return random integers from `low` (inclusive) to `high` (exclusive).\n",
       "\n",
       "Return random integers from the \"discrete uniform\" distribution of\n",
       "the specified dtype in the \"half-open\" interval [`low`, `high`). If\n",
       "`high` is None (the default), then results are from [0, `low`).\n",
       "\n",
       ".. note::\n",
       "    New code should use the ``integers`` method of a ``default_rng()``\n",
       "    instance instead; see `random-quick-start`.\n",
       "\n",
       "Parameters\n",
       "----------\n",
       "low : int or array-like of ints\n",
       "    Lowest (signed) integers to be drawn from the distribution (unless\n",
       "    ``high=None``, in which case this parameter is one above the\n",
       "    *highest* such integer).\n",
       "high : int or array-like of ints, optional\n",
       "    If provided, one above the largest (signed) integer to be drawn\n",
       "    from the distribution (see above for behavior if ``high=None``).\n",
       "    If array-like, must contain integer values\n",
       "size : int or tuple of ints, optional\n",
       "    Output shape.  If the given shape is, e.g., ``(m, n, k)``, then\n",
       "    ``m * n * k`` samples are drawn.  Default is None, in which case a\n",
       "    single value is returned.\n",
       "dtype : dtype, optional\n",
       "    Desired dtype of the result. All dtypes are determined by their\n",
       "    name, i.e., 'int64', 'int', etc, so byteorder is not available\n",
       "    and a specific precision may have different C types depending\n",
       "    on the platform. The default value is `np.int_`.\n",
       "\n",
       "    .. versionadded:: 1.11.0\n",
       "\n",
       "Returns\n",
       "-------\n",
       "out : int or ndarray of ints\n",
       "    `size`-shaped array of random integers from the appropriate\n",
       "    distribution, or a single such random int if `size` not provided.\n",
       "\n",
       "See Also\n",
       "--------\n",
       "random_integers : similar to `randint`, only for the closed\n",
       "    interval [`low`, `high`], and 1 is the lowest value if `high` is\n",
       "    omitted.\n",
       "Generator.integers: which should be used for new code.\n",
       "\n",
       "Examples\n",
       "--------\n",
       ">>> np.random.randint(2, size=10)\n",
       "array([1, 0, 0, 0, 1, 1, 0, 0, 1, 0]) # random\n",
       ">>> np.random.randint(1, size=10)\n",
       "array([0, 0, 0, 0, 0, 0, 0, 0, 0, 0])\n",
       "\n",
       "Generate a 2 x 4 array of ints between 0 and 4, inclusive:\n",
       "\n",
       ">>> np.random.randint(5, size=(2, 4))\n",
       "array([[4, 0, 2, 1], # random\n",
       "       [3, 2, 2, 0]])\n",
       "\n",
       "Generate a 1 x 3 array with 3 different upper bounds\n",
       "\n",
       ">>> np.random.randint(1, [3, 5, 10])\n",
       "array([2, 2, 9]) # random\n",
       "\n",
       "Generate a 1 by 3 array with 3 different lower bounds\n",
       "\n",
       ">>> np.random.randint([1, 5, 7], 10)\n",
       "array([9, 8, 7]) # random\n",
       "\n",
       "Generate a 2 by 4 array using broadcasting with dtype of uint8\n",
       "\n",
       ">>> np.random.randint([1, 3, 5, 7], [[10], [20]], dtype=np.uint8)\n",
       "array([[ 8,  6,  9,  7], # random\n",
       "       [ 1, 16,  9, 12]], dtype=uint8)\n",
       "\u001b[0;31mType:\u001b[0m      builtin_function_or_method\n"
      ]
     },
     "metadata": {},
     "output_type": "display_data"
    }
   ],
   "source": [
    "np.random.randint??"
   ]
  },
  {
   "cell_type": "markdown",
   "metadata": {},
   "source": [
    "## 埃拉托斯特尼筛法生成质数序列"
   ]
  },
  {
   "cell_type": "code",
   "execution_count": 14,
   "metadata": {},
   "outputs": [
    {
     "name": "stdout",
     "output_type": "stream",
     "text": [
      "[  1   2   3   4   5   6   7   8   9  10  11  12  13  14  15  16  17  18\n",
      "  19  20  21  22  23  24  25  26  27  28  29  30  31  32  33  34  35  36\n",
      "  37  38  39  40  41  42  43  44  45  46  47  48  49  50  51  52  53  54\n",
      "  55  56  57  58  59  60  61  62  63  64  65  66  67  68  69  70  71  72\n",
      "  73  74  75  76  77  78  79  80  81  82  83  84  85  86  87  88  89  90\n",
      "  91  92  93  94  95  96  97  98  99 100]\n",
      "10\n",
      "[False  True  True  True  True  True  True  True  True  True  True  True\n",
      "  True  True  True  True  True  True  True  True  True  True  True  True\n",
      "  True  True  True  True  True  True  True  True  True  True  True  True\n",
      "  True  True  True  True  True  True  True  True  True  True  True  True\n",
      "  True  True  True  True  True  True  True  True  True  True  True  True\n",
      "  True  True  True  True  True  True  True  True  True  True  True  True\n",
      "  True  True  True  True  True  True  True  True  True  True  True  True\n",
      "  True  True  True  True  True  True  True  True  True  True  True  True\n",
      "  True  True  True  True]\n",
      "[ 2  3  5  7 11 13 17 19 23 29 31 37 41 43 47 53 59 61 67 71 73 79 83 89\n",
      " 97]\n"
     ]
    },
    {
     "data": {
      "text/plain": [
       "0"
      ]
     },
     "execution_count": 14,
     "metadata": {},
     "output_type": "execute_result"
    }
   ],
   "source": [
    "a = np.arange(1, 101)\n",
    "n_max = int(np.sqrt(len(a)))\n",
    "print(a)\n",
    "print(n_max)\n",
    "is_prime = np.ones(len(a), dtype=bool)\n",
    "is_prime[0] = False\n",
    "print(is_prime)\n",
    "for i in range(2, n_max):\n",
    "    if i in a[is_prime]:\n",
    "        is_prime[(i**2 - 1)::i] = False\n",
    "        \n",
    "print(a[is_prime])\n",
    "\n",
    "a=np.arange(0,51,10).reshape(6,1)\n"
   ]
  },
  {
   "cell_type": "markdown",
   "metadata": {},
   "source": [
    "## 随机漫步算法"
   ]
  },
  {
   "cell_type": "code",
   "execution_count": 3,
   "metadata": {},
   "outputs": [
    {
     "data": {
      "image/png": "[encoded data removed]",
      "text/plain": [
       "<Figure size 576x432 with 1 Axes>"
      ]
     },
     "metadata": {
      "image/png": {
       "height": 380,
       "width": 523
      },
      "needs_background": "light"
     },
     "output_type": "display_data"
    }
   ],
   "source": [
    "n_person = 2000\n",
    "n_times = 500\n",
    "\n",
    "t = np.arange(n_times)\n",
    "steps = 2 * np.random.randint(2, size=(n_person, n_times)) - 1\n",
    "\n",
    "amount = np.cumsum(steps, axis=1)\n",
    "sd_amount = amount ** 2\n",
    "mean_sd_amount = sd_amount.mean(axis=0)\n",
    "\n",
    "plt.figure(figsize=(8, 6))\n",
    "plt.xlabel(r\"$t$\", fontsize=16)\n",
    "plt.tick_params(labelsize=12)\n",
    "plt.ylabel(r\"$\\sqrt{\\langle (\\delta x)^2 \\rangle}$\", fontsize=24)\n",
    "plt.plot(t, np.sqrt(mean_sd_amount), 'g.', t, np.sqrt(t), 'r-');"
   ]
  },
  {
   "cell_type": "markdown",
   "metadata": {},
   "source": [
    "## 多项式拟合"
   ]
  },
  {
   "cell_type": "code",
   "execution_count": 18,
   "metadata": {},
   "outputs": [
    {
     "name": "stdout",
     "output_type": "stream",
     "text": [
      "[ 0.90956645 -2.00191509  1.93317764  0.2209865 ]\n"
     ]
    },
    {
     "data": {
      "image/png": "[encoded data removed]",
      "text/plain": [
       "<Figure size 432x288 with 1 Axes>"
      ]
     },
     "metadata": {},
     "output_type": "display_data"
    }
   ],
   "source": [
    "n_dots = 20\n",
    "n_order = 3\n",
    "\n",
    "x = np.linspace(0, 1, n_dots)\n",
    "y = np.sqrt(x) + 0.2*np.random.rand(n_dots)\n",
    "p = np.poly1d(np.polyfit(x, y, n_order))\n",
    "print(p.coeffs)\n",
    "\n",
    "t = np.linspace(0, 1, 200)\n",
    "#plt.figure(figsize=(16, 12), dpi=200)\n",
    "plt.plot(x, y, 'ro', t, p(t), '-');"
   ]
  },
  {
   "cell_type": "code",
   "execution_count": 20,
   "metadata": {},
   "outputs": [
    {
     "data": {
      "text/plain": [
       "\u001b[0;31mInit signature:\u001b[0m \u001b[0mnp\u001b[0m\u001b[0;34m.\u001b[0m\u001b[0mpoly1d\u001b[0m\u001b[0;34m(\u001b[0m\u001b[0mc_or_r\u001b[0m\u001b[0;34m,\u001b[0m \u001b[0mr\u001b[0m\u001b[0;34m=\u001b[0m\u001b[0;32mFalse\u001b[0m\u001b[0;34m,\u001b[0m \u001b[0mvariable\u001b[0m\u001b[0;34m=\u001b[0m\u001b[0;32mNone\u001b[0m\u001b[0;34m)\u001b[0m\u001b[0;34m\u001b[0m\u001b[0;34m\u001b[0m\u001b[0m\n",
       "\u001b[0;31mDocstring:\u001b[0m     \n",
       "A one-dimensional polynomial class.\n",
       "\n",
       "A convenience class, used to encapsulate \"natural\" operations on\n",
       "polynomials so that said operations may take on their customary\n",
       "form in code (see Examples).\n",
       "\n",
       "Parameters\n",
       "----------\n",
       "c_or_r : array_like\n",
       "    The polynomial's coefficients, in decreasing powers, or if\n",
       "    the value of the second parameter is True, the polynomial's\n",
       "    roots (values where the polynomial evaluates to 0).  For example,\n",
       "    ``poly1d([1, 2, 3])`` returns an object that represents\n",
       "    :math:`x^2 + 2x + 3`, whereas ``poly1d([1, 2, 3], True)`` returns\n",
       "    one that represents :math:`(x-1)(x-2)(x-3) = x^3 - 6x^2 + 11x -6`.\n",
       "r : bool, optional\n",
       "    If True, `c_or_r` specifies the polynomial's roots; the default\n",
       "    is False.\n",
       "variable : str, optional\n",
       "    Changes the variable used when printing `p` from `x` to `variable`\n",
       "    (see Examples).\n",
       "\n",
       "Examples\n",
       "--------\n",
       "Construct the polynomial :math:`x^2 + 2x + 3`:\n",
       "\n",
       ">>> p = np.poly1d([1, 2, 3])\n",
       ">>> print(np.poly1d(p))\n",
       "   2\n",
       "1 x + 2 x + 3\n",
       "\n",
       "Evaluate the polynomial at :math:`x = 0.5`:\n",
       "\n",
       ">>> p(0.5)\n",
       "4.25\n",
       "\n",
       "Find the roots:\n",
       "\n",
       ">>> p.r\n",
       "array([-1.+1.41421356j, -1.-1.41421356j])\n",
       ">>> p(p.r)\n",
       "array([ -4.44089210e-16+0.j,  -4.44089210e-16+0.j]) # may vary\n",
       "\n",
       "These numbers in the previous line represent (0, 0) to machine precision\n",
       "\n",
       "Show the coefficients:\n",
       "\n",
       ">>> p.c\n",
       "array([1, 2, 3])\n",
       "\n",
       "Display the order (the leading zero-coefficients are removed):\n",
       "\n",
       ">>> p.order\n",
       "2\n",
       "\n",
       "Show the coefficient of the k-th power in the polynomial\n",
       "(which is equivalent to ``p.c[-(i+1)]``):\n",
       "\n",
       ">>> p[1]\n",
       "2\n",
       "\n",
       "Polynomials can be added, subtracted, multiplied, and divided\n",
       "(returns quotient and remainder):\n",
       "\n",
       ">>> p * p\n",
       "poly1d([ 1,  4, 10, 12,  9])\n",
       "\n",
       ">>> (p**3 + 4) / p\n",
       "(poly1d([ 1.,  4., 10., 12.,  9.]), poly1d([4.]))\n",
       "\n",
       "``asarray(p)`` gives the coefficient array, so polynomials can be\n",
       "used in all functions that accept arrays:\n",
       "\n",
       ">>> p**2 # square of polynomial\n",
       "poly1d([ 1,  4, 10, 12,  9])\n",
       "\n",
       ">>> np.square(p) # square of individual coefficients\n",
       "array([1, 4, 9])\n",
       "\n",
       "The variable used in the string representation of `p` can be modified,\n",
       "using the `variable` parameter:\n",
       "\n",
       ">>> p = np.poly1d([1,2,3], variable='z')\n",
       ">>> print(p)\n",
       "   2\n",
       "1 z + 2 z + 3\n",
       "\n",
       "Construct a polynomial from its roots:\n",
       "\n",
       ">>> np.poly1d([1, 2], True)\n",
       "poly1d([ 1., -3.,  2.])\n",
       "\n",
       "This is the same polynomial as obtained by:\n",
       "\n",
       ">>> np.poly1d([1, -1]) * np.poly1d([1, -2])\n",
       "poly1d([ 1, -3,  2])\n",
       "\u001b[0;31mFile:\u001b[0m           ~/.pyenv/versions/anaconda3-5.3.0/envs/pytorch/lib/python3.6/site-packages/numpy/__init__.py\n",
       "\u001b[0;31mType:\u001b[0m           type\n"
      ]
     },
     "metadata": {},
     "output_type": "display_data"
    }
   ],
   "source": [
    "np.poly1d??"
   ]
  },
  {
   "cell_type": "markdown",
   "metadata": {},
   "source": [
    "## 蒙特卡罗方法求圆周率"
   ]
  },
  {
   "cell_type": "code",
   "execution_count": 24,
   "metadata": {},
   "outputs": [
    {
     "name": "stdout",
     "output_type": "stream",
     "text": [
      "3.142728\n"
     ]
    }
   ],
   "source": [
    "n_dots = 1000000\n",
    "x = np.random.random(n_dots)\n",
    "y = np.random.random(n_dots)\n",
    "distance = np.sqrt(x ** 2 + y ** 2)\n",
    "in_circle = distance[distance < 1]\n",
    "\n",
    "pi = 4 * float(len(in_circle)) / n_dots\n",
    "print(pi)"
   ]
  },
  {
   "cell_type": "code",
   "execution_count": 25,
   "metadata": {},
   "outputs": [
    {
     "data": {
      "text/plain": [
       "array([0.22635651, 0.29009883, 0.60167143, ..., 0.06950434, 0.65826622,\n",
       "       0.59504795])"
      ]
     },
     "execution_count": 25,
     "metadata": {},
     "output_type": "execute_result"
    }
   ],
   "source": [
    "distance"
   ]
  },
  {
   "cell_type": "code",
   "execution_count": 26,
   "metadata": {},
   "outputs": [
    {
     "data": {
      "text/plain": [
       "array([0.22635651, 0.29009883, 0.60167143, ..., 0.06950434, 0.65826622,\n",
       "       0.59504795])"
      ]
     },
     "execution_count": 26,
     "metadata": {},
     "output_type": "execute_result"
    }
   ],
   "source": [
    "np.sqrt(x ** 2 + y ** 2)"
   ]
  },
  {
   "cell_type": "code",
   "execution_count": null,
   "metadata": {},
   "outputs": [],
   "source": []
  }
 ],
 "metadata": {
  "kernelspec": {
   "display_name": "Python 3",
   "language": "python",
   "name": "python3"
  },
  "language_info": {
   "codemirror_mode": {
    "name": "ipython",
    "version": 3
   },
   "file_extension": ".py",
   "mimetype": "text/x-python",
   "name": "python",
   "nbconvert_exporter": "python",
   "pygments_lexer": "ipython3",
   "version": "3.6.7"
  }
 },
 "nbformat": 4,
 "nbformat_minor": 4
}
