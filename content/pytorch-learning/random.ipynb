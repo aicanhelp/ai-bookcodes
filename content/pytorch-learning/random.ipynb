{
 "cells": [
  {
   "cell_type": "code",
   "execution_count": 1,
   "metadata": {},
   "outputs": [],
   "source": [
    "import torch"
   ]
  },
  {
   "cell_type": "code",
   "execution_count": 11,
   "metadata": {},
   "outputs": [
    {
     "data": {
      "text/plain": [
       "tensor([63, 11, 93, 24, 28])"
      ]
     },
     "execution_count": 11,
     "metadata": {},
     "output_type": "execute_result"
    }
   ],
   "source": [
    "torch.randint(100,(5,))"
   ]
  },
  {
   "cell_type": "code",
   "execution_count": 10,
   "metadata": {},
   "outputs": [
    {
     "data": {
      "text/plain": [
       "tensor([24,  1, 40, 56, 93, 50, 23, 18, 45, 75, 32, 80, 96, 20, 36, 17, 84, 55,\n",
       "        42,  7, 82, 60, 54, 43, 65, 38, 16, 22, 19, 57, 63, 90,  8, 83, 48, 31,\n",
       "        35, 78, 14, 86, 13, 39,  0, 59, 30, 68, 52, 91, 53, 33, 49, 28, 97, 72,\n",
       "        94,  9, 46,  6, 12, 37, 70,  4, 10, 44, 34, 85, 98, 58,  3, 69, 71, 25,\n",
       "        15, 77, 89, 79, 74, 26,  5, 29, 66, 11, 21, 99, 81, 76, 27, 67, 51, 47,\n",
       "        64, 62,  2, 88, 95, 41, 61, 92, 73, 87])"
      ]
     },
     "execution_count": 10,
     "metadata": {},
     "output_type": "execute_result"
    }
   ],
   "source": [
    "torch.randperm(100)"
   ]
  },
  {
   "cell_type": "code",
   "execution_count": null,
   "metadata": {},
   "outputs": [],
   "source": []
  }
 ],
 "metadata": {
  "kernelspec": {
   "display_name": "Python 3",
   "language": "python",
   "name": "python3"
  },
  "language_info": {
   "codemirror_mode": {
    "name": "ipython",
    "version": 3
   },
   "file_extension": ".py",
   "mimetype": "text/x-python",
   "name": "python",
   "nbconvert_exporter": "python",
   "pygments_lexer": "ipython3",
   "version": "3.6.7"
  }
 },
 "nbformat": 4,
 "nbformat_minor": 4
}
