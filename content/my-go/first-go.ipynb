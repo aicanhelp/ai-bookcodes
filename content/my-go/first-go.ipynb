{
 "cells": [
  {
   "cell_type": "code",
   "execution_count": 19,
   "metadata": {},
   "outputs": [],
   "source": [
    "import (\n",
    "    \"image\"\n",
    "    \"image/color\"\n",
    "    \"image/gif\"\n",
    "    \"io\"\n",
    "    \"math\"\n",
    "    \"math/rand\"\n",
    "    \"os\"\n",
    ")\n",
    "\n",
    "var palette = []color.Color{color.White, color.Black}\n",
    "\n",
    "const (\n",
    "    whiteIndex = 0 // first color in palette\n",
    "    blackIndex = 1 // next color in palette\n",
    ")\n"
   ]
  },
  {
   "cell_type": "code",
   "execution_count": 24,
   "metadata": {},
   "outputs": [],
   "source": [
    "func lissajous(out io.Writer) {\n",
    "    const (\n",
    "        cycles  = 5     \n",
    "        res     = 0.001 \n",
    "        size = 100 \n",
    "        nframes =64 \n",
    "        delay =8\n",
    "    )\n",
    "    // image canvas covers [-size..+size]\n",
    "    // number of animation frames\n",
    "    // delay between frames in 10ms units\n",
    "    freq := rand.Float64() * 3.0 // relative frequency of y oscillator\n",
    "    anim := gif.GIF{ LoopCount: nframes }\n",
    "    phase := 0.0 // phase difference\n",
    "    for i := 0; i < nframes; i++ {\n",
    "        rect := image.Rect(0, 0, 2*size+1, 2*size+1)\n",
    "        img := image.NewPaletted(rect, palette)\n",
    "        for t := 0.0; t < cycles*2*math.Pi; t += res {\n",
    "            x := math.Sin(t)\n",
    "            y := math.Sin(t*freq + phase) \n",
    "            img.SetColorIndex(size+int(x*size+0.5), size+int(y*size+0.5), blackIndex)\n",
    "        }\n",
    "        phase += 0.1\n",
    "        anim.Delay = append(anim.Delay, delay)\n",
    "        anim.Image = append(anim.Image, img)\n",
    "    }\n",
    "    gif.EncodeAll(out, &anim) // NOTE: ignoring encoding errors\n",
    "}"
   ]
  },
  {
   "cell_type": "code",
   "execution_count": 25,
   "metadata": {},
   "outputs": [],
   "source": [
    "func main() {\n",
    "    lissajous(os.Stdout)\n",
    "}\n"
   ]
  },
  {
   "cell_type": "code",
   "execution_count": 4,
   "metadata": {},
   "outputs": [
    {
     "name": "stdout",
     "output_type": "stream",
     "text": [
      "1 true\n"
     ]
    }
   ],
   "source": [
    "n,err :=fmt.Println(c['a'])"
   ]
  },
  {
   "cell_type": "code",
   "execution_count": 5,
   "metadata": {},
   "outputs": [
    {
     "name": "stdout",
     "output_type": "stream",
     "text": [
      "\u0007\n"
     ]
    },
    {
     "data": {
      "text/plain": [
       "2 <nil>"
      ]
     },
     "execution_count": 5,
     "metadata": {},
     "output_type": "execute_result"
    }
   ],
   "source": [
    "fmt.Println(\"\"+string(n))"
   ]
  },
  {
   "cell_type": "code",
   "execution_count": 12,
   "metadata": {},
   "outputs": [],
   "source": [
    "import \"bufio\"\n",
    "import \"os\"\n",
    "input:=bufio.NewScanner(os.Stdin)"
   ]
  },
  {
   "cell_type": "code",
   "execution_count": 13,
   "metadata": {},
   "outputs": [
    {
     "ename": "ERROR",
     "evalue": "repl.go:1:1: undefined identifier: jkl",
     "output_type": "error",
     "traceback": [
      "repl.go:1:1: undefined identifier: jkl"
     ]
    }
   ],
   "source": [
    "jkl"
   ]
  },
  {
   "cell_type": "code",
   "execution_count": 31,
   "metadata": {},
   "outputs": [
    {
     "ename": "ERROR",
     "evalue": "repl.go:1:2: expected operand, found 'go'",
     "output_type": "error",
     "traceback": [
      "repl.go:1:2: expected operand, found 'go'"
     ]
    }
   ],
   "source": [
    "!go"
   ]
  },
  {
   "cell_type": "code",
   "execution_count": null,
   "metadata": {},
   "outputs": [],
   "source": []
  }
 ],
 "metadata": {
  "kernelspec": {
   "display_name": "Go",
   "language": "go",
   "name": "gophernotes"
  },
  "language_info": {
   "codemirror_mode": "",
   "file_extension": ".go",
   "mimetype": "",
   "name": "go",
   "nbconvert_exporter": "",
   "pygments_lexer": "",
   "version": "go1.14.3"
  }
 },
 "nbformat": 4,
 "nbformat_minor": 4
}
